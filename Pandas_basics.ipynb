{
 "cells": [
  {
   "cell_type": "markdown",
   "metadata": {},
   "source": [
    "# Задание 1"
   ]
  },
  {
   "cell_type": "markdown",
   "metadata": {},
   "source": [
    "Скачайте с сайта https://grouplens.org/datasets/movielens/ датасет любого размера. Определите какому фильму было выставлено больше всего оценок 5.0."
   ]
  },
  {
   "cell_type": "code",
   "execution_count": 5,
   "metadata": {},
   "outputs": [],
   "source": [
    "import pandas as pd"
   ]
  },
  {
   "cell_type": "code",
   "execution_count": 6,
   "metadata": {},
   "outputs": [],
   "source": [
    "ratings = pd.read_csv('ratings.csv')\n",
    "movies = pd.read_csv('movies.csv')"
   ]
  },
  {
   "cell_type": "code",
   "execution_count": 7,
   "metadata": {},
   "outputs": [
    {
     "name": "stdout",
     "output_type": "stream",
     "text": [
      "Наибольшее количество оценок 5.0 у фильма:\n"
     ]
    },
    {
     "data": {
      "text/html": [
       "<div>\n",
       "<style scoped>\n",
       "    .dataframe tbody tr th:only-of-type {\n",
       "        vertical-align: middle;\n",
       "    }\n",
       "\n",
       "    .dataframe tbody tr th {\n",
       "        vertical-align: top;\n",
       "    }\n",
       "\n",
       "    .dataframe thead th {\n",
       "        text-align: right;\n",
       "    }\n",
       "</style>\n",
       "<table border=\"1\" class=\"dataframe\">\n",
       "  <thead>\n",
       "    <tr style=\"text-align: right;\">\n",
       "      <th></th>\n",
       "      <th>movieId</th>\n",
       "      <th>title</th>\n",
       "      <th>genres</th>\n",
       "    </tr>\n",
       "  </thead>\n",
       "  <tbody>\n",
       "    <tr>\n",
       "      <td>277</td>\n",
       "      <td>318</td>\n",
       "      <td>Shawshank Redemption, The (1994)</td>\n",
       "      <td>Crime|Drama</td>\n",
       "    </tr>\n",
       "  </tbody>\n",
       "</table>\n",
       "</div>"
      ],
      "text/plain": [
       "     movieId                             title       genres\n",
       "277      318  Shawshank Redemption, The (1994)  Crime|Drama"
      ]
     },
     "execution_count": 7,
     "metadata": {},
     "output_type": "execute_result"
    }
   ],
   "source": [
    "top5_0_movies_id = ratings.query('rating == 5').movieId.value_counts().index[0]\n",
    "print('Наибольшее количество оценок 5.0 у фильма:')\n",
    "movies[movies.movieId == top5_0_movies_id]"
   ]
  },
  {
   "cell_type": "markdown",
   "metadata": {},
   "source": [
    "# Задание 2"
   ]
  },
  {
   "cell_type": "markdown",
   "metadata": {},
   "source": [
    "По данным файла power.csv посчитайте суммарное потребление стран Прибалтики (Латвия, Литва и Эстония) категорий 4, 12 и 21 за период с 2005 по 2010 года. Не учитывайте в расчетах отрицательные значения quantity."
   ]
  },
  {
   "cell_type": "code",
   "execution_count": 11,
   "metadata": {},
   "outputs": [
    {
     "name": "stdout",
     "output_type": "stream",
     "text": [
      "Потребление энергии странами Прибалтики составило 730148.0\n"
     ]
    }
   ],
   "source": [
    "data_power = pd.read_csv('power.csv')\n",
    "\n",
    "baltia = data_power[(data_power['country']=='Lithuania') | (data_power['country']=='Latvia') | (data_power['country']=='Estonia')]\n",
    "baltia_filter = baltia[ (baltia['category'] == 4) | (baltia['category'] == 12) | (baltia['category'] == 21) ]\n",
    "\n",
    "baltia_filter_by_years = baltia_filter[(baltia_filter.year > 2010 ) | (baltia_filter.year < 2005 )]\n",
    "balt_cons = sum(baltia_filter_by_years [baltia_filter_by_years.quantity > 0]['quantity'])\n",
    "print('Потребление энергии странами Прибалтики составило', balt_cons)"
   ]
  },
  {
   "cell_type": "markdown",
   "metadata": {},
   "source": [
    "# Задание 3"
   ]
  },
  {
   "cell_type": "markdown",
   "metadata": {},
   "source": [
    "Выберите страницу любого сайта с табличными данными. Импортируйте таблицы в pandas dataframe.\n",
    "Примеры страниц (необязательно брать именно эти):\n",
    "\n",
    "https://fortrader.org/quotes\n",
    "\n",
    "https://www.finanz.ru/valyuty/v-realnom-vremeni"
   ]
  },
  {
   "cell_type": "code",
   "execution_count": 9,
   "metadata": {},
   "outputs": [
    {
     "data": {
      "text/html": [
       "<div>\n",
       "<style scoped>\n",
       "    .dataframe tbody tr th:only-of-type {\n",
       "        vertical-align: middle;\n",
       "    }\n",
       "\n",
       "    .dataframe tbody tr th {\n",
       "        vertical-align: top;\n",
       "    }\n",
       "\n",
       "    .dataframe thead th {\n",
       "        text-align: right;\n",
       "    }\n",
       "</style>\n",
       "<table border=\"1\" class=\"dataframe\">\n",
       "  <thead>\n",
       "    <tr style=\"text-align: right;\">\n",
       "      <th></th>\n",
       "      <th>Unnamed: 0</th>\n",
       "      <th>Инструмент</th>\n",
       "      <th>Посл. сделка</th>\n",
       "      <th>% Изм. цены</th>\n",
       "      <th>Открытие</th>\n",
       "      <th>Макс.</th>\n",
       "      <th>Мин.</th>\n",
       "      <th>Закрытие</th>\n",
       "      <th>Объем, шт.</th>\n",
       "      <th>Время обн.</th>\n",
       "    </tr>\n",
       "  </thead>\n",
       "  <tbody>\n",
       "    <tr>\n",
       "      <td>0</td>\n",
       "      <td>NaN</td>\n",
       "      <td>Apple Inc.USA(BATS)Потенциал:-3%</td>\n",
       "      <td>288.7500 $</td>\n",
       "      <td>-1.42%</td>\n",
       "      <td>282.00</td>\n",
       "      <td>290.82</td>\n",
       "      <td>281.270</td>\n",
       "      <td>292.92</td>\n",
       "      <td>6 385 395</td>\n",
       "      <td>06.03 23:59</td>\n",
       "    </tr>\n",
       "    <tr>\n",
       "      <td>1</td>\n",
       "      <td>NaN</td>\n",
       "      <td>BTC-USD</td>\n",
       "      <td>9121.15 $</td>\n",
       "      <td>NaN</td>\n",
       "      <td>NaN</td>\n",
       "      <td>NaN</td>\n",
       "      <td>NaN</td>\n",
       "      <td>9118.83</td>\n",
       "      <td>NaN</td>\n",
       "      <td>07.03 15:49</td>\n",
       "    </tr>\n",
       "    <tr>\n",
       "      <td>2</td>\n",
       "      <td>NaN</td>\n",
       "      <td>Bank of AmericaUSA(BATS)</td>\n",
       "      <td>25.7200 $</td>\n",
       "      <td>-3.96%</td>\n",
       "      <td>25.41</td>\n",
       "      <td>26.20</td>\n",
       "      <td>25.105</td>\n",
       "      <td>26.78</td>\n",
       "      <td>9 623 676</td>\n",
       "      <td>06.03 23:59</td>\n",
       "    </tr>\n",
       "    <tr>\n",
       "      <td>3</td>\n",
       "      <td>NaN</td>\n",
       "      <td>Brent</td>\n",
       "      <td>45.50</td>\n",
       "      <td>-8.98%</td>\n",
       "      <td>50.25</td>\n",
       "      <td>50.45</td>\n",
       "      <td>45.180</td>\n",
       "      <td>49.99</td>\n",
       "      <td>NaN</td>\n",
       "      <td>07.03 01:59</td>\n",
       "    </tr>\n",
       "    <tr>\n",
       "      <td>4</td>\n",
       "      <td>NaN</td>\n",
       "      <td>ETH-USD</td>\n",
       "      <td>245.12 $</td>\n",
       "      <td>NaN</td>\n",
       "      <td>NaN</td>\n",
       "      <td>NaN</td>\n",
       "      <td>NaN</td>\n",
       "      <td>239.30</td>\n",
       "      <td>NaN</td>\n",
       "      <td>07.03 15:49</td>\n",
       "    </tr>\n",
       "  </tbody>\n",
       "</table>\n",
       "</div>"
      ],
      "text/plain": [
       "   Unnamed: 0                        Инструмент Посл. сделка % Изм. цены  \\\n",
       "0         NaN  Apple Inc.USA(BATS)Потенциал:-3%   288.7500 $      -1.42%   \n",
       "1         NaN                           BTC-USD    9121.15 $         NaN   \n",
       "2         NaN          Bank of AmericaUSA(BATS)    25.7200 $      -3.96%   \n",
       "3         NaN                             Brent        45.50      -8.98%   \n",
       "4         NaN                           ETH-USD     245.12 $         NaN   \n",
       "\n",
       "   Открытие   Макс.     Мин.  Закрытие Объем, шт.   Время обн.  \n",
       "0    282.00  290.82  281.270    292.92  6 385 395  06.03 23:59  \n",
       "1       NaN     NaN      NaN   9118.83        NaN  07.03 15:49  \n",
       "2     25.41   26.20   25.105     26.78  9 623 676  06.03 23:59  \n",
       "3     50.25   50.45   45.180     49.99        NaN  07.03 01:59  \n",
       "4       NaN     NaN      NaN    239.30        NaN  07.03 15:49  "
      ]
     },
     "execution_count": 9,
     "metadata": {},
     "output_type": "execute_result"
    }
   ],
   "source": [
    "quotes_data = pd.read_html('https://www.finam.ru/quotes/')[0]\n",
    "quotes_data.head()"
   ]
  },
  {
   "cell_type": "code",
   "execution_count": null,
   "metadata": {},
   "outputs": [],
   "source": []
  }
 ],
 "metadata": {
  "kernelspec": {
   "display_name": "Python 3",
   "language": "python",
   "name": "python3"
  },
  "language_info": {
   "codemirror_mode": {
    "name": "ipython",
    "version": 3
   },
   "file_extension": ".py",
   "mimetype": "text/x-python",
   "name": "python",
   "nbconvert_exporter": "python",
   "pygments_lexer": "ipython3",
   "version": "3.7.4"
  }
 },
 "nbformat": 4,
 "nbformat_minor": 2
}
